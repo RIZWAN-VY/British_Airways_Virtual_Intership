{
 "cells": [
  {
   "cell_type": "markdown",
   "metadata": {},
   "source": [
    "## Analysis and Visualization of Scraped Data"
   ]
  },
  {
   "cell_type": "code",
   "execution_count": 10,
   "metadata": {},
   "outputs": [],
   "source": [
    "# Libraries\n",
    "import pandas as pd\n",
    "from textblob import TextBlob\n",
    "import matplotlib.pyplot as plt"
   ]
  },
  {
   "cell_type": "code",
   "execution_count": 6,
   "metadata": {},
   "outputs": [
    {
     "name": "stdout",
     "output_type": "stream",
     "text": [
      "     RECOMMENDED  REVIEW_RATING   \n",
      "0            yes              5  \\\n",
      "1            yes              1   \n",
      "2            yes              1   \n",
      "3            yes              1   \n",
      "4            yes              1   \n",
      "...          ...            ...   \n",
      "2995          no             10   \n",
      "2996          no              9   \n",
      "2997          no              3   \n",
      "2998          no              9   \n",
      "2999          no              9   \n",
      "\n",
      "                                            REVIEW_TEXT  \n",
      "0     \"never fly this awful airline again\"   | i had...  \n",
      "1     \"i’ll never fly with them again\"  | we started...  \n",
      "2     \"the worst of the worst\"  | i fly british airw...  \n",
      "3     \"everyone refused to help us\"   | everything w...  \n",
      "4     \"not a single feedback from british airways\"  ...  \n",
      "...                                                 ...  \n",
      "2995  british airways customer review flew ba256 fro...  \n",
      "2996  british airways customer review 9 april 2015 b...  \n",
      "2997  british airways customer review we flew for th...  \n",
      "2998  british airways customer review substandard fo...  \n",
      "2999  british airways customer review ba0676 ist-lhr...  \n",
      "\n",
      "[3000 rows x 3 columns]\n"
     ]
    }
   ],
   "source": [
    "# Load the cleaned data\n",
    "data = pd.read_csv('C:/Users/rizwa/Desktop/Rizwan/Projects/British_Airways_Virtual_Internship/BA_reviews.csv')\n",
    "# print(data)\n",
    "df = data.drop(columns=['Unnamed: 0'])\n",
    "print(df)"
   ]
  },
  {
   "cell_type": "markdown",
   "metadata": {},
   "source": [
    "### Columns and Data types"
   ]
  },
  {
   "cell_type": "code",
   "execution_count": 7,
   "metadata": {},
   "outputs": [
    {
     "name": "stdout",
     "output_type": "stream",
     "text": [
      "Index(['RECOMMENDED', 'REVIEW_RATING', 'REVIEW_TEXT'], dtype='object')\n",
      "--------------------------------------------------------------------\n",
      "RECOMMENDED      object\n",
      "REVIEW_RATING     int64\n",
      "REVIEW_TEXT      object\n",
      "dtype: object\n"
     ]
    }
   ],
   "source": [
    "print(df.columns)\n",
    "print(\"--------------------------------------------------------------------\")\n",
    "print(df.dtypes)"
   ]
  },
  {
   "cell_type": "markdown",
   "metadata": {},
   "source": [
    "### Total Reviews "
   ]
  },
  {
   "cell_type": "code",
   "execution_count": 8,
   "metadata": {},
   "outputs": [
    {
     "name": "stdout",
     "output_type": "stream",
     "text": [
      " Total Number or Reviews Collented  ---> 3000\n"
     ]
    }
   ],
   "source": [
    "print(f\" Total Number or Reviews Collented  ---> {len(df)}\")"
   ]
  },
  {
   "cell_type": "markdown",
   "metadata": {},
   "source": [
    "### Sentiment Analysis"
   ]
  },
  {
   "cell_type": "code",
   "execution_count": 9,
   "metadata": {},
   "outputs": [
    {
     "name": "stdout",
     "output_type": "stream",
     "text": [
      "     RECOMMENDED  REVIEW_RATING   \n",
      "0            yes              5  \\\n",
      "1            yes              1   \n",
      "2            yes              1   \n",
      "3            yes              1   \n",
      "4            yes              1   \n",
      "...          ...            ...   \n",
      "2995          no             10   \n",
      "2996          no              9   \n",
      "2997          no              3   \n",
      "2998          no              9   \n",
      "2999          no              9   \n",
      "\n",
      "                                            REVIEW_TEXT Sentiment  \n",
      "0     \"never fly this awful airline again\"   | i had...  Negative  \n",
      "1     \"i’ll never fly with them again\"  | we started...  Negative  \n",
      "2     \"the worst of the worst\"  | i fly british airw...   Neutral  \n",
      "3     \"everyone refused to help us\"   | everything w...  Negative  \n",
      "4     \"not a single feedback from british airways\"  ...   Neutral  \n",
      "...                                                 ...       ...  \n",
      "2995  british airways customer review flew ba256 fro...   Neutral  \n",
      "2996  british airways customer review 9 april 2015 b...  Positive  \n",
      "2997  british airways customer review we flew for th...   Neutral  \n",
      "2998  british airways customer review substandard fo...   Neutral  \n",
      "2999  british airways customer review ba0676 ist-lhr...  Positive  \n",
      "\n",
      "[3000 rows x 4 columns]\n"
     ]
    }
   ],
   "source": [
    "reviews = df['REVIEW_TEXT']\n",
    "sentiments = []\n",
    "\n",
    "for review in reviews:\n",
    "    blob = TextBlob(review)\n",
    "    sentiment = blob.sentiment.polarity\n",
    "    sentiments.append(sentiment)\n",
    "\n",
    "categorized_sentiments = []\n",
    "\n",
    "for sentiment in sentiments:\n",
    "    if sentiment > 0.1:\n",
    "        categorized_sentiments.append('Positive')\n",
    "    elif sentiment < -0.1:\n",
    "        categorized_sentiments.append('Negative')\n",
    "    else:\n",
    "        categorized_sentiments.append('Neutral')\n",
    "\n",
    "df['Sentiment'] = categorized_sentiments\n",
    "print(df)"
   ]
  },
  {
   "cell_type": "markdown",
   "metadata": {},
   "source": [
    "### Visualizing the Sentiment - Bar Chart"
   ]
  },
  {
   "cell_type": "code",
   "execution_count": 11,
   "metadata": {},
   "outputs": [
    {
     "data": {
      "image/png": "[encoded data removed]",
      "text/plain": [
       "<Figure size 600x300 with 1 Axes>"
      ]
     },
     "metadata": {},
     "output_type": "display_data"
    }
   ],
   "source": [
    "sentiment_counts = df['Sentiment'].value_counts()\n",
    "\n",
    "colors = ['#66b3ff', '#99ff99', '#ff9999']\n",
    "\n",
    "fig, ax = plt.subplots(1, 1, figsize=(6, 3))\n",
    "\n",
    "fig.suptitle('Distribution of Sentiments in Customer Reviews', fontsize=12, fontweight='bold')\n",
    "\n",
    "bars = ax.barh(sentiment_counts.keys(), sentiment_counts.values, color=colors)\n",
    "ax.set_xlabel('Number of Reviews', fontsize=10, fontweight='bold')\n",
    "ax.set_ylabel('Sentiment', fontsize=10, fontweight='bold')\n",
    "\n",
    "for bar in bars:\n",
    "    ax.text(bar.get_width(), bar.get_y() + bar.get_height()/2, bar.get_width(), \n",
    "            ha='left', va='center', fontsize=8, fontweight='bold')\n",
    "\n",
    "plt.tight_layout()\n",
    "plt.show()"
   ]
  },
  {
   "cell_type": "markdown",
   "metadata": {},
   "source": [
    "#### Sentiment Analysis of Customer Reviews :  \n",
    "\n",
    "Sentiment Analysis was performed on customer reviews using TextBlob.\n",
    "Sentiments were categorized into three groups: Positive, Negative, and Neutral.  \n",
    "\n",
    "The sentiment distribution reveals:  \n",
    "* __Positive : 1269__ reviews are positive, indicating a satisfied customer base.  \n",
    "* __Neutral : 1324__ reviews are neutral, suggesting a balanced sentiment.  \n",
    "* __Negative : 407__ reviews are negative, signaling areas that might need improvement."
   ]
  }
 ],
 "metadata": {
  "kernelspec": {
   "display_name": "Python 3",
   "language": "python",
   "name": "python3"
  },
  "language_info": {
   "codemirror_mode": {
    "name": "ipython",
    "version": 3
   },
   "file_extension": ".py",
   "mimetype": "text/x-python",
   "name": "python",
   "nbconvert_exporter": "python",
   "pygments_lexer": "ipython3",
   "version": "3.8.0"
  },
  "orig_nbformat": 4
 },
 "nbformat": 4,
 "nbformat_minor": 2
}
